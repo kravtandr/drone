{
 "cells": [
  {
   "cell_type": "code",
   "execution_count": 2,
   "metadata": {},
   "outputs": [
    {
     "name": "stderr",
     "output_type": "stream",
     "text": [
      "2024-11-22 00:20:36.269250: E external/local_xla/xla/stream_executor/cuda/cuda_fft.cc:485] Unable to register cuFFT factory: Attempting to register factory for plugin cuFFT when one has already been registered\n",
      "2024-11-22 00:20:36.282665: E external/local_xla/xla/stream_executor/cuda/cuda_dnn.cc:8454] Unable to register cuDNN factory: Attempting to register factory for plugin cuDNN when one has already been registered\n",
      "2024-11-22 00:20:36.286480: E external/local_xla/xla/stream_executor/cuda/cuda_blas.cc:1452] Unable to register cuBLAS factory: Attempting to register factory for plugin cuBLAS when one has already been registered\n",
      "2024-11-22 00:20:36.296649: I tensorflow/core/platform/cpu_feature_guard.cc:210] This TensorFlow binary is optimized to use available CPU instructions in performance-critical operations.\n",
      "To enable the following instructions: AVX2 FMA, in other operations, rebuild TensorFlow with the appropriate compiler flags.\n",
      "2024-11-22 00:20:37.032546: W tensorflow/compiler/tf2tensorrt/utils/py_utils.cc:38] TF-TRT Warning: Could not find TensorRT\n"
     ]
    },
    {
     "name": "stdout",
     "output_type": "stream",
     "text": [
      "CUDA is available!  Training on GPU ...\n"
     ]
    }
   ],
   "source": [
    "from scipy.spatial import distance\n",
    "import numpy as np \n",
    "import pandas as pd \n",
    "import os\n",
    "import cv2\n",
    "import pandas as pd\n",
    "import numpy as np\n",
    "from matplotlib import pyplot as plt\n",
    "import tensorflow as tf\n",
    "import torch\n",
    "from torch.utils.data import Dataset, TensorDataset, DataLoader\n",
    "from torchvision import transforms as T\n",
    "from torchvision import transforms\n",
    "import pytorch_msssim\n",
    "import torchvision.models as models\n",
    "import torchvision.transforms as transforms\n",
    "from PIL import Image\n",
    "import torch.nn as nn\n",
    "from tqdm import tqdm\n",
    "from torch.optim import lr_scheduler\n",
    "import gc\n",
    "from time import sleep\n",
    "import math\n",
    "\n",
    "\n",
    "train_on_gpu = torch.cuda.is_available()\n",
    "\n",
    "if not train_on_gpu:\n",
    "    print('CUDA is not available.  Training on CPU ...')\n",
    "else:\n",
    "    print('CUDA is available!  Training on GPU ...')\n",
    "\n",
    "device = torch.device('cuda' if torch.cuda.is_available() else 'cpu')\n",
    "\n"
   ]
  },
  {
   "cell_type": "code",
   "execution_count": 3,
   "metadata": {},
   "outputs": [],
   "source": [
    "\n",
    "\n",
    "class Drone:\n",
    "    def __init__(self, id, x, y, z):\n",
    "        self.id = id\n",
    "        self.x = x\n",
    "        self.y = y\n",
    "        self.z = z\n",
    "\n",
    "class Encoder(nn.Module):\n",
    "\n",
    "    def __init__(self, encoded_space_dim):\n",
    "        super().__init__()\n",
    "        \n",
    "        self.encoded_space_dim = encoded_space_dim\n",
    "        ### Convolutional section\n",
    "        self.encoder_cnn = nn.Sequential(\n",
    "            nn.Conv2d(3, 8, 4, stride=2, padding=0),\n",
    "            nn.ReLU(True),\n",
    "            nn.Conv2d(8, 16, 4, stride=2, padding=0),\n",
    "            nn.BatchNorm2d(16),\n",
    "            nn.ReLU(True),\n",
    "            nn.Conv2d(16, 32, 4, stride=2, padding=0),\n",
    "            nn.ReLU(True),\n",
    "            nn.Conv2d(32, 64, 4, stride=2, padding=0),\n",
    "            nn.ReLU(True),\n",
    "            nn.Conv2d(64, 128, 4, stride=2, padding=1),\n",
    "            nn.ReLU(True)\n",
    "        )\n",
    "        \n",
    "        ### Flatten layer\n",
    "        self.flatten = nn.Flatten(start_dim=1)\n",
    "### Linear section\n",
    "        self.encoder_lin = nn.Sequential(\n",
    "            nn.Linear(8 * 8 * 128, 1024),\n",
    "            nn.ReLU(True),\n",
    "            nn.Linear(1024, encoded_space_dim)\n",
    "        )\n",
    "        \n",
    "    def forward(self, x):\n",
    "        x = self.encoder_cnn(x)\n",
    "        x = self.flatten(x)\n",
    "        x = self.encoder_lin(x)\n",
    "        #z_mean = self.encoder_lin(x)\n",
    "        #z_log_var = self.encoder_lin(x)\n",
    "        #N = torch.normal(0, 1, size=(z_log_var.size()[0], self.encoded_space_dim))\n",
    "        #N = N.to(device)\n",
    "        #print('N: ', N.shape, ' z_log_var: ', z_log_var.shape)\n",
    "        return x #(torch.exp(z_log_var / 2) * N + z_mean), z_mean, z_log_var\n",
    "\n",
    "def load_embeddings():\n",
    "    image_path = '../map/test_map_crop.png'\n",
    "    full_map = cv2.imread(image_path)\n",
    "    full_map = cv2.cvtColor(full_map, cv2.COLOR_BGR2RGB)\n",
    "    # координаты тайлов\n",
    "    height, width, _ = full_map.shape\n",
    "    step = 50\n",
    "    tile_size = 300\n",
    "    coord_dataset = pd.DataFrame(columns = ['x', 'y'])\n",
    "    for x in range(0, width - tile_size, step):\n",
    "        for y in range(0, height - tile_size, step):\n",
    "            coord_dataset.loc[len(coord_dataset.index)] = [x, y]\n",
    "    class CustomDataset(Dataset):\n",
    "        def __init__(self, full_map, coord_dataset, tile_size, transform=None):\n",
    "            self.mapa = full_map\n",
    "            self.coords = coord_dataset\n",
    "            self.tile_size = tile_size\n",
    "            self.transform = transform\n",
    "\n",
    "        def __len__(self):\n",
    "            return len(self.coords.index)\n",
    "\n",
    "        def __getitem__(self, idx):\n",
    "            x = self.coords.iloc[idx]['x']\n",
    "            y = self.coords.iloc[idx]['y']\n",
    "            image = full_map[y:y+tile_size, x:x+tile_size]\n",
    "            if self.transform:\n",
    "                image = self.transform(image)\n",
    "                \n",
    "            return image, (x, y)\n",
    "    encoder = Encoder(encoded_space_dim=256)\n",
    "\n",
    "    best_encoder = torch.load('./models/best_encoder_02_08.pth', weights_only=True)\n",
    "    encoder.load_state_dict(best_encoder)   \n",
    "      \n",
    "\n",
    "    batch_size = 1\n",
    "    train_dataset = CustomDataset(full_map=full_map[:, :5000], coord_dataset = coord_dataset, tile_size = tile_size, transform=transforms.ToTensor())\n",
    "    dataloader = DataLoader(train_dataset, batch_size=batch_size, shuffle=True)\n",
    "\n",
    "    encoder.to(device)\n",
    "    encoder.eval()\n",
    "    embedings = []\n",
    "    labels = []\n",
    "    with torch.no_grad():\n",
    "        for data in dataloader:\n",
    "            # if i == 1:\n",
    "            #     break\n",
    "            inputs, label = data\n",
    "            # print(\"Input: \", inputs)\n",
    "            # print(\"Labels: \", labels)\n",
    "            # print(\"Input: \", inputs.shape)\n",
    "            inputs = inputs.to(device)\n",
    "            coded= encoder(inputs)\n",
    "    \n",
    "            inputs = inputs.cpu().numpy().flatten().tolist()\n",
    "            coded = coded.cpu().numpy().flatten().tolist()\n",
    "\n",
    "            \n",
    "            # print(coded)\n",
    "            # print(coded.shape)\n",
    "            embedings.append(coded)\n",
    "            labels.append(label)\n",
    "            # print(\"---------------\")\n",
    "            \n",
    "\n",
    "    print(\"Emb Amount: \", len(embedings))\n",
    "    print(\"Emb: \", embedings[0:3], \"...\")\n",
    "    return labels, embedings\n",
    "\n",
    "def image_to_tensor(drone):\n",
    "    # пока использую статичное изображение, потом буду получать от камеры\n",
    "    # step = 50\n",
    "    tile_size = 300\n",
    "    x = drone.x\n",
    "    y = drone.y\n",
    "    full_map_image_path = '../map/test_map_crop.png'\n",
    "    full_map = cv2.imread(full_map_image_path)\n",
    "    fpv_image = full_map[y:y+tile_size, x:x+tile_size]\n",
    "    fpv_image = cv2.cvtColor(fpv_image, cv2.COLOR_BGR2RGB)\n",
    "    transform=transforms.ToTensor()\n",
    "    fpv_image = transform(fpv_image)\n",
    "    fpv_image = fpv_image.unsqueeze(0)\n",
    "    print(\"Image shape:\",fpv_image.shape)\n",
    "    return fpv_image\n",
    "\n",
    "def image_to_embeding(inputs):\n",
    "     \n",
    "    encoder = Encoder(encoded_space_dim=256)\n",
    "    encoder.to(device)\n",
    "    best_encoder = torch.load('./models/best_encoder_02_08.pth')\n",
    "    encoder.load_state_dict(best_encoder)  \n",
    "    encoder.eval()\n",
    "    with torch.no_grad():\n",
    "        inputs = inputs.to(device)\n",
    "        coded= encoder(inputs)\n",
    "        coded = coded.cpu().numpy()\n",
    "        print(\"Image coded emb shape:\",coded.shape)\n",
    "        return coded\n",
    "\n"
   ]
  },
  {
   "cell_type": "code",
   "execution_count": 6,
   "metadata": {},
   "outputs": [
    {
     "name": "stdout",
     "output_type": "stream",
     "text": [
      "Emb Amount:  11766\n",
      "Emb:  [[-109063.4296875, -1610054.875, 1008138.0625, -736228.6875, -1418765.875, 1002615.625, -2081069.125, -745765.5, -1122884.625, 1502688.25, -886512.5, 685118.625, 52706.7734375, -1387809.125, 941735.0, -1431123.25, -286403.0625, 1070841.5, 1524850.5, -1458484.625, -372061.21875, 2081430.5, -443928.21875, -85036.640625, -971231.625, -483729.25, 2338120.5, -649905.4375, 712542.5625, -1242099.5, -1110719.625, 1282539.25, 1860087.75, 238650.296875, -1318332.0, -374821.28125, -688004.5, 712909.9375, -1764001.75, 1212028.75, -1526510.0, -1492548.75, -1174035.0, 88268.1171875, 1726629.875, 749449.25, 129111.3828125, -1067630.75, 60677.328125, -814763.375, 1049541.375, 222225.8125, -1435040.625, 444562.9375, -1051012.375, -1738129.0, 810120.0625, 684892.8125, -2165921.5, -234708.734375, -1744475.625, 1143987.375, -897471.25, 752803.6875, 296661.34375, 180716.203125, 1820552.625, 711689.3125, 899685.1875, -1417080.625, -1451214.125, -1540277.0, -667586.375, 353138.21875, 1137115.375, -954865.875, 1144320.5, -966243.25, -1077070.875, 1525094.125, -1351397.25, 1027997.3125, -773485.6875, 1150139.75, 2086091.5, 661249.5, 1383032.875, 1352478.0, 999573.4375, 1161492.5, -296823.59375, 810836.5625, 1026274.6875, -1040493.875, -1219334.0, 171085.3125, -1756210.5, 1677395.25, 276549.46875, -960406.875, 60544.30078125, 112103.0390625, -333575.25, 710538.625, 436650.21875, 325613.03125, 1266080.5, 1549053.75, 397970.21875, 771312.625, 1045270.75, -501035.53125, -996455.0, -1217146.875, -997626.4375, -212869.546875, -843465.125, -200237.359375, -1066073.375, 1860636.75, 1236472.375, 130369.90625, -589134.3125, -987057.625, 809912.5625, -3832705.5, 1276904.5, -1169389.375, 102462.4140625, -1108896.5, -1101846.625, -1703104.0, -890732.4375, -895262.5625, -2100068.25, 55486.5390625, -970461.8125, 1753284.625, -2646557.0, -1019372.6875, -135800.953125, -88939.203125, -767623.25, -1579578.75, 780034.5625, 1294691.25, 1031921.75, -623816.4375, 2153769.0, -1648262.75, 1030797.25, -1113400.0, 736730.75, -433254.5, -665433.875, -809308.6875, 421154.21875, -199619.859375, -1410022.75, -1573849.5, 653873.75, -2008739.125, -916066.6875, 803878.1875, -747875.125, 1317111.5, -787033.6875, -882386.0625, -467755.4375, 38100.12890625, -1425005.375, 1726888.75, 1229948.875, 1003545.8125, 1109913.75, 1461371.875, 250449.40625, 173406.609375, -727666.0625, 991365.0, -1438528.0, 2061349.125, 769515.0625, 1975071.375, 260517.921875, 1468914.125, 2323287.0, 588656.25, -40454.7578125, -1069408.625, -1398608.875, 336798.09375, -822711.6875, -1858104.25, 1292889.75, -1237492.75, -1695938.5, 242681.859375, -1494814.375, 819172.9375, 152670.296875, 830118.625, 1674302.875, -1422275.75, 687755.3125, 1714926.75, 1761802.75, 1101374.625, -646966.4375, -1202694.0, 1021674.0625, 68717.8125, -278602.46875, 579114.6875, 920525.625, 1381181.125, 1295899.25, 359428.5, -2042957.25, 375648.46875, -2524680.5, 1599071.25, 559795.4375, -1216790.625, -955574.125, 61838.29296875, 319144.96875, -1190879.625, 177280.265625, -455598.53125, -1990846.5, 2071464.0, -1665176.875, 2799969.25, -1221733.0, 2000205.75, 518229.71875, -310264.84375, -1677603.25, 57216.6640625, -128364.40625, 907374.875, -1534145.25, -926200.125, 811000.9375, -798502.5625, 915730.6875, 150408.328125, -1948463.875, -302548.375, -1142870.5, 1535164.75, -1546449.5, 1360767.25, -929667.3125, -670787.3125], [-507135.34375, 351866.3125, 2300511.75, -1965363.25, -866770.8125, 1416435.25, -487480.625, -3466530.5, 547956.5625, 100358.1953125, -2010329.875, -726338.4375, 845330.25, 621158.4375, 2074759.25, 541598.8125, 1018298.5625, 1130312.25, 973777.0, -718672.0, 652927.75, 377438.59375, -665719.0625, -1423955.875, -1045478.4375, 600467.875, 1218093.625, 361067.96875, -630071.875, -920002.625, -1175932.5, 80441.9375, -592100.0, 284988.71875, -758503.375, -1613922.75, 377950.875, 294493.5625, -18709.171875, -466900.90625, 51895.82421875, 77398.5546875, -1542708.375, 1938664.75, 1016339.9375, 956138.3125, 598264.0, -347687.28125, 1181061.25, -422098.40625, 1012552.3125, 1290025.0, -1492354.125, 1142579.875, -313121.71875, 1122684.25, 2083059.5, 526156.9375, -2448669.5, 330361.15625, -1769864.375, 836378.75, -420940.90625, -413955.4375, 235226.859375, -109782.2578125, -126470.3671875, -1360653.75, -333152.625, -2218974.0, 195990.046875, 426584.78125, 441684.75, 2316562.5, -701783.4375, -1810396.0, 680767.75, -709871.4375, -2241291.5, 2046069.625, -970984.875, -31155.119140625, -310223.21875, 917894.625, 181623.90625, -2211706.5, 892354.75, -84823.6015625, -731112.9375, 842376.3125, 1422894.5, 606030.25, 1258522.0, 1486379.75, -1036355.4375, 953647.3125, -1643986.5, 843602.625, -510284.96875, 620765.6875, -433921.78125, 82037.9296875, -1335976.25, 48383.18359375, 874815.9375, -553776.25, -19833.361328125, -362079.0625, -2304099.75, -1843171.625, -696741.0, -1333739.125, 59547.0390625, -1312219.875, -425110.34375, -1969949.75, -2683365.75, -2084726.125, -833074.8125, 211086.1875, 563171.25, 1285250.625, -53721.25, -1022605.4375, -1029759.4375, 1525522.5, 1106897.875, 106408.34375, -462152.46875, 1026896.3125, -1502944.0, 1538383.25, -1044511.0625, -833768.5625, -1053160.375, -629140.5, -2015153.125, 278850.4375, 403556.96875, 65175.078125, 565203.625, -70128.171875, -1693473.0, -1734538.0, 373761.0, 1304560.375, 1102973.875, 229145.578125, 1512314.875, 489048.90625, -41912.59375, -1174368.625, -718748.75, 336516.1875, -716984.75, -240590.671875, 1179496.25, 1410955.0, 4680.044921875, 62465.1484375, -790730.375, -185956.65625, 496960.1875, 924048.4375, 444903.03125, -1753496.0, -591201.875, -881649.9375, 1501312.75, 1354407.375, -1276634.125, 56808.70703125, 681518.9375, -1317624.75, 1267406.25, 613227.5625, -1841588.5, -598906.5, -2170124.25, 1375703.375, -1048425.3125, 543782.0625, 55008.71875, 402193.9375, 1264580.875, 2067258.5, 972168.3125, -830802.5625, -945736.5625, -1403582.375, 235193.03125, 764700.0625, 1056946.75, 851445.3125, -291162.15625, -1140746.375, 143925.25, 1336884.25, -1646030.25, 340166.6875, 2401908.25, -2157881.25, -27376.12109375, 1729845.5, 567975.0, -1261793.75, 970808.75, 573404.75, -59216.09375, -1236889.5, 1522962.125, 2393279.25, 13980.392578125, 249742.40625, -685614.3125, -449165.375, 602703.9375, 2012960.0, 711936.4375, 973185.0625, -1184658.625, -674205.125, -793901.875, -670063.1875, 427103.09375, 556222.125, -1273069.5, 221788.828125, -2070913.0, -639650.4375, 194216.28125, -90453.3125, -830592.6875, 2268171.0, -2147201.25, -175669.078125, 1550716.5, -1473337.75, -2133227.5, 680949.75, -2021864.5, 162865.90625, -1646001.0, -777063.75, -401374.34375, -403889.84375, 207515.1875, -538573.25, -906185.3125, 2636651.5, 534325.375, 79626.46875, -1098883.625, 488463.3125, -622445.0625, -1830175.75], [-1437741.75, 324692.84375, -1914326.0, 1021616.5625, -272140.9375, -606647.625, -683893.75, 1318340.25, 723475.8125, -1648391.375, 600995.6875, 998871.875, -1109144.125, 1204441.375, -274965.625, -931954.0, 162798.296875, 1043056.0625, -1097603.875, 1783394.75, 1705555.75, 437463.9375, 1132885.0, 540695.375, -647622.625, -827562.375, 766961.6875, 1418080.375, -1045883.25, -676365.125, -508564.8125, -1037164.25, 760507.9375, -750178.0625, -2409784.5, 511608.90625, -244809.796875, 1225478.75, 451836.15625, 942339.125, 955082.125, 678846.0625, -625659.8125, -40017.63671875, -828476.5625, -1609604.875, -833976.6875, 1888999.75, -1309078.5, -1089467.125, 1068040.625, -971603.75, -873385.9375, -1651303.375, -378544.8125, -1758477.5, -1253714.75, -1316465.75, 926194.1875, 1730758.625, 114043.515625, -347819.125, 1857218.0, -860980.0, -1605619.75, -1301857.75, 695923.8125, 1481979.25, -1101112.875, -97759.203125, 411769.25, 482883.09375, -745748.75, -1091139.5, 238202.96875, 383913.15625, 748583.0625, 1679867.25, 805358.5625, -878897.5625, -292413.59375, -664913.125, 1566463.875, 823747.0625, -544568.375, 657468.0, 890763.4375, -1384407.25, -849230.875, 961742.8125, -391286.71875, 962865.5, -1239162.625, 2831296.5, 1118838.75, -1198014.75, -293770.3125, -1502060.0, -1678804.625, 1324842.875, -435129.84375, -1017002.8125, -1880322.375, 838735.625, 156908.4375, -170438.828125, 816943.9375, -296452.96875, 2141464.0, 417762.1875, -464470.375, -563514.3125, 1368146.5, -441504.28125, 1719179.5, 712416.4375, 1765183.125, 1405129.5, -1943272.25, -5152.25, 690954.25, 1973348.5, -1131837.125, -984546.1875, 687270.5625, -5216730.0, 717327.875, -817064.0625, 520632.40625, -88163.5625, -2271532.0, -2548667.25, 1542188.875, -839513.9375, -348385.6875, -1123810.75, 416973.71875, -684350.625, -1240930.375, -974017.9375, 295666.78125, -310465.3125, 711140.0, -370577.625, 1095834.5, 1448720.75, 2515057.5, -576613.6875, -1508103.875, 496538.8125, 1552249.0, -2991987.5, -1527471.75, 182796.890625, -1195381.625, -522538.40625, -2087915.0, -2177819.25, -146818.109375, 972300.625, -698995.4375, -906356.1875, -1293869.625, 1105107.875, 965527.4375, -864942.75, -1128564.75, -623794.4375, -1214039.75, -512313.75, 1162395.875, -793028.875, 962448.4375, 3657262.0, 660810.125, 39528.09375, 1788636.5, -1008720.6875, 359783.03125, -543139.25, -675105.5625, 808962.1875, 309226.4375, 111461.6953125, -1100472.0, 452475.5, 139268.875, 489466.15625, 1319298.875, -577251.5625, 362756.71875, 430549.96875, -983521.1875, -1897173.875, -1206050.5, 637854.0625, -132018.5625, -891662.1875, -457534.625, 1397132.5, -665150.1875, 1837598.5, -1543146.5, 538919.75, -839671.8125, 2085401.5, 918815.875, 476324.71875, -1691887.875, -2732007.5, 630059.0, 618449.625, 638012.5625, 611064.8125, 112894.8203125, -43855.81640625, -1194756.0, -933549.9375, -1823981.0, -1068531.625, 1088190.875, 249620.5625, -1503582.0, -1404440.25, 973307.4375, -1541587.75, 815485.3125, 1422942.25, 1401898.5, -2859148.25, 930820.25, 1895393.75, 1153814.25, -1172190.25, 6086.0, -848263.125, -1343148.5, 669537.0, 1988710.875, -963513.625, 779222.9375, 1362636.625, -607016.9375, 1675384.75, -1376224.875, 664737.625, 939089.125, 563095.5, 1206586.75, -2039575.75, -2967293.5, -786302.75, 247.62339782714844, -710548.8125, -933138.0625, 695095.625]] ...\n"
     ]
    }
   ],
   "source": [
    "# загржуам эмбединги в память\n",
    "labels, data = load_embeddings()\n",
    "\n",
    "\n"
   ]
  },
  {
   "cell_type": "code",
   "execution_count": 5,
   "metadata": {},
   "outputs": [
    {
     "name": "stdout",
     "output_type": "stream",
     "text": [
      "(11766, 256)\n"
     ]
    }
   ],
   "source": [
    "# ключ-значение для меток\n",
    "embedings = dict(zip(map(tuple,data), labels))\n",
    "\n",
    "# Преобразуем embeddings в DataFrame\n",
    "df = pd.DataFrame(data)\n",
    "print(df.shape)\n"
   ]
  },
  {
   "cell_type": "code",
   "execution_count": 8,
   "metadata": {},
   "outputs": [
    {
     "name": "stdout",
     "output_type": "stream",
     "text": [
      "Эмбеддинги успешно сохранены в файл embeddings.pkl\n"
     ]
    },
    {
     "name": "stderr",
     "output_type": "stream",
     "text": [
      "/home/kravtandr/.local/lib/python3.10/site-packages/torch/storage.py:414: FutureWarning: You are using `torch.load` with `weights_only=False` (the current default value), which uses the default pickle module implicitly. It is possible to construct malicious pickle data which will execute arbitrary code during unpickling (See https://github.com/pytorch/pytorch/blob/main/SECURITY.md#untrusted-models for more details). In a future release, the default value for `weights_only` will be flipped to `True`. This limits the functions that could be executed during unpickling. Arbitrary objects will no longer be allowed to be loaded via this mode unless they are explicitly allowlisted by the user via `torch.serialization.add_safe_globals`. We recommend you start setting `weights_only=True` for any use case where you don't have full control of the loaded file. Please open an issue on GitHub for any issues related to this experimental feature.\n",
      "  return torch.load(io.BytesIO(b))\n"
     ]
    },
    {
     "name": "stdout",
     "output_type": "stream",
     "text": [
      "Эмбеддинги успешно загружены из файла embeddings.pkl\n"
     ]
    }
   ],
   "source": [
    "import pickle\n",
    "\n",
    "# Функция для сохранения словаря с эмбеддингами\n",
    "def save_embeddings(embeddings, filename):\n",
    "    try:\n",
    "        with open(filename, 'wb') as file:\n",
    "            pickle.dump(embeddings, file)\n",
    "        print(f\"Эмбеддинги успешно сохранены в файл {filename}\")\n",
    "    except Exception as e:\n",
    "        print(f\"Ошибка при сохранении эмбеддингов: {e}\")\n",
    "\n",
    "# Функция для загрузки словаря с эмбеддингами\n",
    "def load_embeddings(filename):\n",
    "    try:\n",
    "        with open(filename, 'rb') as file:\n",
    "            embeddings = pickle.load(file)\n",
    "        print(f\"Эмбеддинги успешно загружены из файла {filename}\")\n",
    "        return embeddings\n",
    "    except Exception as e:\n",
    "        print(f\"Ошибка при загрузке эмбеддингов: {e}\")\n",
    "        return None\n",
    "\n",
    "# Пример использования:\n",
    "# Сохранение\n",
    "embeddings = dict(zip(map(tuple, data), labels))\n",
    "save_embeddings(embeddings, \"embeddings.pkl\")\n",
    "\n",
    "# Загрузка\n",
    "# loaded_embeddings = load_embeddings(\"embeddings.pkl\")"
   ]
  },
  {
   "cell_type": "code",
   "execution_count": 9,
   "metadata": {},
   "outputs": [],
   "source": [
    "\n",
    "# Вычисляем ковариационную матрицу для embedings и инвертируем её\n",
    "cov_matrix = np.cov(df.T)\n",
    "inv_cov_matrix = np.linalg.inv(cov_matrix)\n",
    "\n",
    "# drone start coords\n",
    "drone = Drone(0, 333, 777, 0)\n",
    "\n",
    "    "
   ]
  },
  {
   "cell_type": "code",
   "execution_count": 10,
   "metadata": {},
   "outputs": [
    {
     "name": "stdout",
     "output_type": "stream",
     "text": [
      "Матрица успешно сохранена в файл inv_cov_matrix.npy\n"
     ]
    }
   ],
   "source": [
    "import numpy as np\n",
    "\n",
    "def save_matrix(matrix, filename):\n",
    "    \"\"\"\n",
    "    Сохраняет матрицу в файл\n",
    "    \n",
    "    Параметры:\n",
    "    matrix: numpy array - матрица для сохранения\n",
    "    filename: str - имя файла для сохранения (с расширением .npy)\n",
    "    \"\"\"\n",
    "    try:\n",
    "        np.save(filename, matrix)\n",
    "        print(f\"Матрица успешно сохранена в файл {filename}\")\n",
    "    except Exception as e:\n",
    "        print(f\"Ошибка при сохранении матрицы: {e}\")\n",
    "\n",
    "def load_matrix(filename):\n",
    "    \"\"\"\n",
    "    Загружает матрицу из файла\n",
    "    \n",
    "    Параметры:\n",
    "    filename: str - имя файла для загрузки (с расширением .npy)\n",
    "    \n",
    "    Возвращает:\n",
    "    numpy array - загруженная матрица\n",
    "    \"\"\"\n",
    "    try:\n",
    "        matrix = np.load(filename)\n",
    "        print(f\"Матрица успешно загружена из файла {filename}\")\n",
    "        return matrix\n",
    "    except Exception as e:\n",
    "        print(f\"Ошибка при загрузке матрицы: {e}\")\n",
    "        return None\n",
    "\n",
    "# Пример использования:\n",
    "# Предположим, у вас есть матрица inv_cov_matrix\n",
    "\n",
    "# Сохранение матрицы\n",
    "save_matrix(inv_cov_matrix, 'inv_cov_matrix.npy')\n",
    "\n",
    "# Загрузка матрицы\n",
    "# loaded_matrix = load_matrix('inv_cov_matrix.npy')"
   ]
  },
  {
   "cell_type": "code",
   "execution_count": 135,
   "metadata": {},
   "outputs": [],
   "source": [
    "def nearbyAreaCheck(drone, embedings, embeding_vector):\n",
    "    nearbyDelta = 300\n",
    "    x = embedings[tuple(embeding_vector)][0]\n",
    "    y = embedings[tuple(embeding_vector)][1]\n",
    "    if abs(x-drone.x) < nearbyDelta and abs(y-drone.y) < nearbyDelta:\n",
    "        return True\n",
    "    else:\n",
    "        return False"
   ]
  },
  {
   "cell_type": "code",
   "execution_count": 136,
   "metadata": {},
   "outputs": [
    {
     "name": "stdout",
     "output_type": "stream",
     "text": [
      "Image shape: torch.Size([1, 3, 300, 300])\n",
      "Image coded emb shape: (1, 256)\n"
     ]
    },
    {
     "name": "stderr",
     "output_type": "stream",
     "text": [
      "/tmp/ipykernel_4718/1534400846.py:176: FutureWarning: You are using `torch.load` with `weights_only=False` (the current default value), which uses the default pickle module implicitly. It is possible to construct malicious pickle data which will execute arbitrary code during unpickling (See https://github.com/pytorch/pytorch/blob/main/SECURITY.md#untrusted-models for more details). In a future release, the default value for `weights_only` will be flipped to `True`. This limits the functions that could be executed during unpickling. Arbitrary objects will no longer be allowed to be loaded via this mode unless they are explicitly allowlisted by the user via `torch.serialization.add_safe_globals`. We recommend you start setting `weights_only=True` for any use case where you don't have full control of the loaded file. Please open an issue on GitHub for any issues related to this experimental feature.\n",
      "  best_encoder = torch.load('/media/kravtandr/SSD_1TB/Drone_nav/maks/best_encoder_02_08.pth')\n"
     ]
    },
    {
     "name": "stdout",
     "output_type": "stream",
     "text": [
      "Min mahal:  9.003372880059008\n",
      "New Drone coords:  [tensor([350]), tensor([750])]\n",
      "Real Drone coords:  333 777\n"
     ]
    }
   ],
   "source": [
    "# while True:\n",
    "for i in range(1):\n",
    "    # get image from camera\n",
    "    fpv_image = image_to_tensor(drone)\n",
    "\n",
    "    # image to encoder\n",
    "    encoded_image = image_to_embeding(fpv_image).flatten()\n",
    "\n",
    "    min_mahalanobis_distance = np.inf\n",
    "    closest_embeding_vector = None\n",
    "    # тут нужно потом сравнивать не со всеми а только с ближайшими\n",
    "    for embeding_vector in data:\n",
    "        if nearbyAreaCheck(drone, embedings, embeding_vector):\n",
    "            mahalanobis_distance = distance.mahalanobis(encoded_image, embeding_vector, inv_cov_matrix)\n",
    "            # print(mahalanobis_distance)\n",
    "            if mahalanobis_distance < min_mahalanobis_distance:\n",
    "                min_mahalanobis_distance = mahalanobis_distance\n",
    "                closest_embeding_vector = embeding_vector\n",
    "\n",
    "    print(\"Min mahal: \",min_mahalanobis_distance)\n",
    "    print(\"New Drone coords: \",embedings[tuple(closest_embeding_vector)])\n",
    "    print(\"Real Drone coords: \", drone.x, drone.y)"
   ]
  }
 ],
 "metadata": {
  "kernelspec": {
   "display_name": "Python 3",
   "language": "python",
   "name": "python3"
  },
  "language_info": {
   "codemirror_mode": {
    "name": "ipython",
    "version": 3
   },
   "file_extension": ".py",
   "mimetype": "text/x-python",
   "name": "python",
   "nbconvert_exporter": "python",
   "pygments_lexer": "ipython3",
   "version": "3.10.12"
  }
 },
 "nbformat": 4,
 "nbformat_minor": 2
}
