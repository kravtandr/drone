{
 "cells": [
  {
   "cell_type": "code",
   "execution_count": 1,
   "metadata": {},
   "outputs": [
    {
     "name": "stdout",
     "output_type": "stream",
     "text": [
      "Size 462\n",
      "Dataset saved to coordinates_dataset.csv\n"
     ]
    }
   ],
   "source": [
    "import os\n",
    "import cv2\n",
    "import pandas as pd\n",
    "import numpy as np\n",
    "\n",
    "# Загрузим изображение карты\n",
    "image_path = '/media/system/SSD_1TB/Drone_nav/map/test/test_map_crop.png'\n",
    "output_dir = '/media/system/SSD_1TB/Drone_nav/map/test/tiles'\n",
    "image = cv2.imread(image_path)\n",
    "\n",
    "# Размер изображения\n",
    "height, width, _ = image.shape\n",
    "\n",
    "# Размеры клеток (например, 50x50 пикселей)\n",
    "cell_size = 512\n",
    "\n",
    "# Списки для хранения координат центров клеток\n",
    "centers = []\n",
    "data = []\n",
    "crop_step_mult = 2\n",
    "\n",
    "\n",
    "\n",
    "# Нарезаем изображение на клетки и находим центр каждой клетки\n",
    "for y in range(0, height, cell_size // crop_step_mult):\n",
    "    for x in range(0, width, cell_size // crop_step_mult):\n",
    "        center_x = x + cell_size // 2\n",
    "        center_y = y + cell_size // 2\n",
    "        # Проверка, чтобы центр клетки был в пределах изображения\n",
    "        if center_x < width and center_y < height:\n",
    "            cell = image[y:y+cell_size, x:x+cell_size]\n",
    "            cell_filename = f'cell_{center_x}_{center_y}.png'\n",
    "            cell_path = os.path.join(output_dir, cell_filename)\n",
    "            cv2.imwrite(cell_path, cell)\n",
    "            data.append((center_x, center_y, cell_path))\n",
    "            centers.append((center_x, center_y))\n",
    "            # Отображаем центр клетки на изображении\n",
    "            # cv2.circle(image, (center_x, center_y), 3, (0, 255, 0), -1)\n",
    "\n",
    "# Преобразование координат в pandas DataFrame\n",
    "data = pd.DataFrame(data, columns=['center_x', 'center_y', 'cell_path'])\n",
    "print(\"Size\", len(data))\n",
    "# Сохраняем датасет в файл\n",
    "dataset_path = 'coordinates_dataset.csv'\n",
    "data.to_csv(dataset_path, index=False)\n",
    "\n",
    "print(f'Dataset saved to {dataset_path}')\n",
    "scale = 0.2\n",
    "sclaed_img = cv2.resize(image, None, fx=scale,fy=scale, interpolation=cv2.INTER_LINEAR)\n",
    "# Показать изображение с центрами клеток\n",
    "# cv2.imshow('image_with_centers', sclaed_img)\n",
    "# cv2.waitKey(0)\n",
    "# cv2.destroyAllWindows()"
   ]
  },
  {
   "cell_type": "code",
   "execution_count": null,
   "metadata": {},
   "outputs": [],
   "source": []
  }
 ],
 "metadata": {
  "kernelspec": {
   "display_name": "Python 3",
   "language": "python",
   "name": "python3"
  },
  "language_info": {
   "codemirror_mode": {
    "name": "ipython",
    "version": 3
   },
   "file_extension": ".py",
   "mimetype": "text/x-python",
   "name": "python",
   "nbconvert_exporter": "python",
   "pygments_lexer": "ipython3",
   "version": "3.12.2"
  }
 },
 "nbformat": 4,
 "nbformat_minor": 2
}
